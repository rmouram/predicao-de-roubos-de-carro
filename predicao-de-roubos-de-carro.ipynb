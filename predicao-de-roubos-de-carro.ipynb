{
 "cells": [
  {
   "cell_type": "markdown",
   "metadata": {},
   "source": [
    "<h3>Rômulo Ferreira Moura Maia</h3>\n",
    "<h4>Infelizmente soube dessa vaga hoje (12/03)</h4>\n"
   ]
  },
  {
   "cell_type": "markdown",
   "metadata": {},
   "source": [
    "<h1>Predição de roubos de carros</h1>"
   ]
  },
  {
   "cell_type": "markdown",
   "metadata": {},
   "source": [
    "<h3>Objetivo: dado como entrada as features hora_dia, dia_semana, bairro e cidade, compute e exiba a quantidade de roubos de carros na próxima hora</h3>"
   ]
  },
  {
   "cell_type": "markdown",
   "metadata": {},
   "source": [
    " \n",
    " \n",
    " \n",
    " \n",
    " "
   ]
  },
  {
   "cell_type": "code",
   "execution_count": 1,
   "metadata": {},
   "outputs": [],
   "source": [
    "import pandas as pd\n",
    "import numpy as np\n",
    "from sklearn.impute import SimpleImputer"
   ]
  },
  {
   "cell_type": "markdown",
   "metadata": {},
   "source": [
    "<h5>Lendo os 12 arquivos CSV</h5>"
   ]
  },
  {
   "cell_type": "code",
   "execution_count": 3,
   "metadata": {},
   "outputs": [],
   "source": [
    "df1 = pd.read_csv('Dados/DadosBO_2019_1(ROUBO DE VEÍCULOS).csv', encoding='ISO-8859-1')\n",
    "df2 = pd.read_csv('Dados/DadosBO_2019_2(ROUBO DE VEÍCULOS).csv', encoding='ISO-8859-1')\n",
    "df3 = pd.read_csv('Dados/DadosBO_2019_3(ROUBO DE VEÍCULOS).csv', encoding='ISO-8859-1')\n",
    "df4 = pd.read_csv('Dados/DadosBO_2019_4(ROUBO DE VEÍCULOS).csv', encoding='ISO-8859-1')\n",
    "df5 = pd.read_csv('Dados/DadosBO_2019_5(ROUBO DE VEÍCULOS).csv', encoding='ISO-8859-1')\n",
    "df6 = pd.read_csv('Dados/DadosBO_2019_6(ROUBO DE VEÍCULOS).csv', encoding='ISO-8859-1')\n",
    "df7 = pd.read_csv('Dados/DadosBO_2019_7(ROUBO DE VEÍCULOS).csv', encoding='ISO-8859-1')\n",
    "df8 = pd.read_csv('Dados/DadosBO_2019_8(ROUBO DE VEÍCULOS).csv', encoding='ISO-8859-1')\n",
    "df9 = pd.read_csv('Dados/DadosBO_2019_9(ROUBO DE VEÍCULOS).csv', encoding='ISO-8859-1')\n",
    "df10= pd.read_csv('Dados/DadosBO_2019_10(ROUBO DE VEÍCULOS).csv', encoding='ISO-8859-1')\n",
    "df11= pd.read_csv('Dados/DadosBO_2019_11(ROUBO DE VEÍCULOS).csv', encoding='ISO-8859-1')\n",
    "df12= pd.read_csv('Dados/DadosBO_2019_12(ROUBO DE VEÍCULOS).csv', encoding='ISO-8859-1')"
   ]
  },
  {
   "cell_type": "markdown",
   "metadata": {},
   "source": [
    "<h5>Concatenando os 12 dataframes em um só</h5>"
   ]
  },
  {
   "cell_type": "code",
   "execution_count": 4,
   "metadata": {},
   "outputs": [],
   "source": [
    "df = pd.concat([df1,df2,df3,df4,df5,df6,df7,df8,df9,df10,df11,df12])"
   ]
  },
  {
   "cell_type": "markdown",
   "metadata": {},
   "source": [
    "<h3>1. Explorando os dados</h3>"
   ]
  },
  {
   "cell_type": "code",
   "execution_count": 24,
   "metadata": {},
   "outputs": [
    {
     "data": {
      "text/html": [
       "<div>\n",
       "<style scoped>\n",
       "    .dataframe tbody tr th:only-of-type {\n",
       "        vertical-align: middle;\n",
       "    }\n",
       "\n",
       "    .dataframe tbody tr th {\n",
       "        vertical-align: top;\n",
       "    }\n",
       "\n",
       "    .dataframe thead th {\n",
       "        text-align: right;\n",
       "    }\n",
       "</style>\n",
       "<table border=\"1\" class=\"dataframe\">\n",
       "  <thead>\n",
       "    <tr style=\"text-align: right;\">\n",
       "      <th></th>\n",
       "      <th>ANO_BO</th>\n",
       "      <th>NUM_BO</th>\n",
       "      <th>NUMERO_BOLETIM</th>\n",
       "      <th>BO_INICIADO</th>\n",
       "      <th>BO_EMITIDO</th>\n",
       "      <th>DATAOCORRENCIA</th>\n",
       "      <th>HORAOCORRENCIA</th>\n",
       "      <th>PERIDOOCORRENCIA</th>\n",
       "      <th>DATACOMUNICACAO</th>\n",
       "      <th>DATAELABORACAO</th>\n",
       "      <th>...</th>\n",
       "      <th>PLACA_VEICULO</th>\n",
       "      <th>UF_VEICULO</th>\n",
       "      <th>CIDADE_VEICULO</th>\n",
       "      <th>DESCR_COR_VEICULO</th>\n",
       "      <th>DESCR_MARCA_VEICULO</th>\n",
       "      <th>ANO_FABRICACAO</th>\n",
       "      <th>ANO_MODELO</th>\n",
       "      <th>DESCR_TIPO_VEICULO</th>\n",
       "      <th>QUANT_CELULAR</th>\n",
       "      <th>MARCA_CELULAR</th>\n",
       "    </tr>\n",
       "  </thead>\n",
       "  <tbody>\n",
       "    <tr>\n",
       "      <th>0</th>\n",
       "      <td>2018</td>\n",
       "      <td>4590</td>\n",
       "      <td>4590/2018</td>\n",
       "      <td>31/12/2018 23:55:04</td>\n",
       "      <td>01/01/2019 00:04:02</td>\n",
       "      <td>31/12/2018</td>\n",
       "      <td>22:30</td>\n",
       "      <td>A NOITE</td>\n",
       "      <td>31/12/2018</td>\n",
       "      <td>31/12/2018 23:55:04</td>\n",
       "      <td>...</td>\n",
       "      <td>FUL0185</td>\n",
       "      <td>SP</td>\n",
       "      <td>SAO PAULO</td>\n",
       "      <td>Vermelho</td>\n",
       "      <td>VW/FOX 1.0 GII</td>\n",
       "      <td>2014.0</td>\n",
       "      <td>2014.0</td>\n",
       "      <td>AUTOMOVEL</td>\n",
       "      <td>NaN</td>\n",
       "      <td>NaN</td>\n",
       "    </tr>\n",
       "    <tr>\n",
       "      <th>1</th>\n",
       "      <td>2018</td>\n",
       "      <td>8741</td>\n",
       "      <td>8741/2018</td>\n",
       "      <td>31/12/2018 23:50:15</td>\n",
       "      <td>01/01/2019 00:06:43</td>\n",
       "      <td>31/12/2018</td>\n",
       "      <td>23:30</td>\n",
       "      <td>A NOITE</td>\n",
       "      <td>31/12/2018</td>\n",
       "      <td>31/12/2018 23:50:15</td>\n",
       "      <td>...</td>\n",
       "      <td>FJT8505</td>\n",
       "      <td>SP</td>\n",
       "      <td>SAO PAULO</td>\n",
       "      <td>Preta</td>\n",
       "      <td>CHEVROLET/ONIX 1.0MT LT</td>\n",
       "      <td>2013.0</td>\n",
       "      <td>2013.0</td>\n",
       "      <td>AUTOMOVEL</td>\n",
       "      <td>NaN</td>\n",
       "      <td>NaN</td>\n",
       "    </tr>\n",
       "    <tr>\n",
       "      <th>2</th>\n",
       "      <td>2018</td>\n",
       "      <td>3396</td>\n",
       "      <td>3396/2018</td>\n",
       "      <td>31/12/2018 23:46:32</td>\n",
       "      <td>01/01/2019 00:09:17</td>\n",
       "      <td>31/12/2018</td>\n",
       "      <td>22:00</td>\n",
       "      <td>A NOITE</td>\n",
       "      <td>31/12/2018</td>\n",
       "      <td>31/12/2018 23:46:32</td>\n",
       "      <td>...</td>\n",
       "      <td>PXO8626</td>\n",
       "      <td>SP</td>\n",
       "      <td>HORTOLANDIA</td>\n",
       "      <td>Marrom</td>\n",
       "      <td>HYUNDAI/HB20 1.0M COMFOR</td>\n",
       "      <td>2016.0</td>\n",
       "      <td>2016.0</td>\n",
       "      <td>AUTOMOVEL</td>\n",
       "      <td>NaN</td>\n",
       "      <td>NaN</td>\n",
       "    </tr>\n",
       "    <tr>\n",
       "      <th>3</th>\n",
       "      <td>2018</td>\n",
       "      <td>5767</td>\n",
       "      <td>5767/2018</td>\n",
       "      <td>31/12/2018 23:52:58</td>\n",
       "      <td>01/01/2019 00:18:30</td>\n",
       "      <td>31/12/2018</td>\n",
       "      <td>23:20</td>\n",
       "      <td>A NOITE</td>\n",
       "      <td>31/12/2018</td>\n",
       "      <td>31/12/2018 23:52:58</td>\n",
       "      <td>...</td>\n",
       "      <td>FOX4452</td>\n",
       "      <td>SP</td>\n",
       "      <td>SAO PAULO</td>\n",
       "      <td>Vermelho</td>\n",
       "      <td>VW/FOX 1.0</td>\n",
       "      <td>2007.0</td>\n",
       "      <td>2008.0</td>\n",
       "      <td>AUTOMOVEL</td>\n",
       "      <td>NaN</td>\n",
       "      <td>NaN</td>\n",
       "    </tr>\n",
       "    <tr>\n",
       "      <th>4</th>\n",
       "      <td>2018</td>\n",
       "      <td>12332</td>\n",
       "      <td>12332/2018</td>\n",
       "      <td>31/12/2018 23:57:00</td>\n",
       "      <td>01/01/2019 00:23:55</td>\n",
       "      <td>31/12/2018</td>\n",
       "      <td>22:45</td>\n",
       "      <td>A NOITE</td>\n",
       "      <td>31/12/2018</td>\n",
       "      <td>31/12/2018 23:57:00</td>\n",
       "      <td>...</td>\n",
       "      <td>FEM0368</td>\n",
       "      <td>SP</td>\n",
       "      <td>CAMPINAS</td>\n",
       "      <td>Vermelho</td>\n",
       "      <td>HONDA/CG 150 TITAN ESD</td>\n",
       "      <td>2012.0</td>\n",
       "      <td>2013.0</td>\n",
       "      <td>MOTOCICLO</td>\n",
       "      <td>NaN</td>\n",
       "      <td>NaN</td>\n",
       "    </tr>\n",
       "  </tbody>\n",
       "</table>\n",
       "<p>5 rows × 57 columns</p>\n",
       "</div>"
      ],
      "text/plain": [
       "   ANO_BO  NUM_BO NUMERO_BOLETIM          BO_INICIADO           BO_EMITIDO  \\\n",
       "0    2018    4590      4590/2018  31/12/2018 23:55:04  01/01/2019 00:04:02   \n",
       "1    2018    8741      8741/2018  31/12/2018 23:50:15  01/01/2019 00:06:43   \n",
       "2    2018    3396      3396/2018  31/12/2018 23:46:32  01/01/2019 00:09:17   \n",
       "3    2018    5767      5767/2018  31/12/2018 23:52:58  01/01/2019 00:18:30   \n",
       "4    2018   12332     12332/2018  31/12/2018 23:57:00  01/01/2019 00:23:55   \n",
       "\n",
       "  DATAOCORRENCIA HORAOCORRENCIA PERIDOOCORRENCIA DATACOMUNICACAO  \\\n",
       "0     31/12/2018          22:30          A NOITE      31/12/2018   \n",
       "1     31/12/2018          23:30          A NOITE      31/12/2018   \n",
       "2     31/12/2018          22:00          A NOITE      31/12/2018   \n",
       "3     31/12/2018          23:20          A NOITE      31/12/2018   \n",
       "4     31/12/2018          22:45          A NOITE      31/12/2018   \n",
       "\n",
       "        DATAELABORACAO  ... PLACA_VEICULO UF_VEICULO CIDADE_VEICULO  \\\n",
       "0  31/12/2018 23:55:04  ...       FUL0185         SP      SAO PAULO   \n",
       "1  31/12/2018 23:50:15  ...       FJT8505         SP      SAO PAULO   \n",
       "2  31/12/2018 23:46:32  ...       PXO8626         SP    HORTOLANDIA   \n",
       "3  31/12/2018 23:52:58  ...       FOX4452         SP      SAO PAULO   \n",
       "4  31/12/2018 23:57:00  ...       FEM0368         SP       CAMPINAS   \n",
       "\n",
       "  DESCR_COR_VEICULO       DESCR_MARCA_VEICULO ANO_FABRICACAO ANO_MODELO  \\\n",
       "0          Vermelho            VW/FOX 1.0 GII         2014.0     2014.0   \n",
       "1             Preta   CHEVROLET/ONIX 1.0MT LT         2013.0     2013.0   \n",
       "2            Marrom  HYUNDAI/HB20 1.0M COMFOR         2016.0     2016.0   \n",
       "3          Vermelho                VW/FOX 1.0         2007.0     2008.0   \n",
       "4          Vermelho    HONDA/CG 150 TITAN ESD         2012.0     2013.0   \n",
       "\n",
       "  DESCR_TIPO_VEICULO QUANT_CELULAR MARCA_CELULAR  \n",
       "0          AUTOMOVEL           NaN           NaN  \n",
       "1          AUTOMOVEL           NaN           NaN  \n",
       "2          AUTOMOVEL           NaN           NaN  \n",
       "3          AUTOMOVEL           NaN           NaN  \n",
       "4          MOTOCICLO           NaN           NaN  \n",
       "\n",
       "[5 rows x 57 columns]"
      ]
     },
     "execution_count": 24,
     "metadata": {},
     "output_type": "execute_result"
    }
   ],
   "source": [
    "df.head()"
   ]
  },
  {
   "cell_type": "markdown",
   "metadata": {},
   "source": [
    "<h5>Breve descrição geral do dataframe</h5>"
   ]
  },
  {
   "cell_type": "code",
   "execution_count": 25,
   "metadata": {},
   "outputs": [
    {
     "data": {
      "text/html": [
       "<div>\n",
       "<style scoped>\n",
       "    .dataframe tbody tr th:only-of-type {\n",
       "        vertical-align: middle;\n",
       "    }\n",
       "\n",
       "    .dataframe tbody tr th {\n",
       "        vertical-align: top;\n",
       "    }\n",
       "\n",
       "    .dataframe thead th {\n",
       "        text-align: right;\n",
       "    }\n",
       "</style>\n",
       "<table border=\"1\" class=\"dataframe\">\n",
       "  <thead>\n",
       "    <tr style=\"text-align: right;\">\n",
       "      <th></th>\n",
       "      <th>ANO_BO</th>\n",
       "      <th>NUM_BO</th>\n",
       "      <th>NUMERO</th>\n",
       "      <th>RG</th>\n",
       "      <th>IDADE</th>\n",
       "      <th>RELACIONAMENTO</th>\n",
       "      <th>PARENTESCO</th>\n",
       "      <th>ANO_FABRICACAO</th>\n",
       "      <th>ANO_MODELO</th>\n",
       "      <th>QUANT_CELULAR</th>\n",
       "      <th>MARCA_CELULAR</th>\n",
       "    </tr>\n",
       "  </thead>\n",
       "  <tbody>\n",
       "    <tr>\n",
       "      <th>count</th>\n",
       "      <td>120554.000000</td>\n",
       "      <td>1.205540e+05</td>\n",
       "      <td>1.205180e+05</td>\n",
       "      <td>6.120000e+02</td>\n",
       "      <td>662.000000</td>\n",
       "      <td>0.0</td>\n",
       "      <td>0.0</td>\n",
       "      <td>116560.000000</td>\n",
       "      <td>109149.000000</td>\n",
       "      <td>0.0</td>\n",
       "      <td>0.0</td>\n",
       "    </tr>\n",
       "    <tr>\n",
       "      <th>mean</th>\n",
       "      <td>2018.999569</td>\n",
       "      <td>7.701180e+04</td>\n",
       "      <td>1.117497e+03</td>\n",
       "      <td>5.377082e+07</td>\n",
       "      <td>24.018127</td>\n",
       "      <td>NaN</td>\n",
       "      <td>NaN</td>\n",
       "      <td>1445.009943</td>\n",
       "      <td>1406.792220</td>\n",
       "      <td>NaN</td>\n",
       "      <td>NaN</td>\n",
       "    </tr>\n",
       "    <tr>\n",
       "      <th>std</th>\n",
       "      <td>0.020764</td>\n",
       "      <td>2.803016e+05</td>\n",
       "      <td>5.521084e+04</td>\n",
       "      <td>6.047994e+07</td>\n",
       "      <td>10.482734</td>\n",
       "      <td>NaN</td>\n",
       "      <td>NaN</td>\n",
       "      <td>905.419721</td>\n",
       "      <td>923.335388</td>\n",
       "      <td>NaN</td>\n",
       "      <td>NaN</td>\n",
       "    </tr>\n",
       "    <tr>\n",
       "      <th>min</th>\n",
       "      <td>2018.000000</td>\n",
       "      <td>1.000000e+00</td>\n",
       "      <td>0.000000e+00</td>\n",
       "      <td>2.924582e+06</td>\n",
       "      <td>13.000000</td>\n",
       "      <td>NaN</td>\n",
       "      <td>NaN</td>\n",
       "      <td>0.000000</td>\n",
       "      <td>0.000000</td>\n",
       "      <td>NaN</td>\n",
       "      <td>NaN</td>\n",
       "    </tr>\n",
       "    <tr>\n",
       "      <th>25%</th>\n",
       "      <td>2019.000000</td>\n",
       "      <td>1.178000e+03</td>\n",
       "      <td>1.500000e+01</td>\n",
       "      <td>3.902380e+07</td>\n",
       "      <td>17.000000</td>\n",
       "      <td>NaN</td>\n",
       "      <td>NaN</td>\n",
       "      <td>0.000000</td>\n",
       "      <td>0.000000</td>\n",
       "      <td>NaN</td>\n",
       "      <td>NaN</td>\n",
       "    </tr>\n",
       "    <tr>\n",
       "      <th>50%</th>\n",
       "      <td>2019.000000</td>\n",
       "      <td>2.855000e+03</td>\n",
       "      <td>1.240000e+02</td>\n",
       "      <td>4.961931e+07</td>\n",
       "      <td>20.000000</td>\n",
       "      <td>NaN</td>\n",
       "      <td>NaN</td>\n",
       "      <td>2011.000000</td>\n",
       "      <td>2011.000000</td>\n",
       "      <td>NaN</td>\n",
       "      <td>NaN</td>\n",
       "    </tr>\n",
       "    <tr>\n",
       "      <th>75%</th>\n",
       "      <td>2019.000000</td>\n",
       "      <td>5.909000e+03</td>\n",
       "      <td>5.000000e+02</td>\n",
       "      <td>5.445653e+07</td>\n",
       "      <td>27.000000</td>\n",
       "      <td>NaN</td>\n",
       "      <td>NaN</td>\n",
       "      <td>2015.000000</td>\n",
       "      <td>2015.000000</td>\n",
       "      <td>NaN</td>\n",
       "      <td>NaN</td>\n",
       "    </tr>\n",
       "    <tr>\n",
       "      <th>max</th>\n",
       "      <td>2019.000000</td>\n",
       "      <td>3.000212e+06</td>\n",
       "      <td>1.350682e+07</td>\n",
       "      <td>5.701472e+08</td>\n",
       "      <td>80.000000</td>\n",
       "      <td>NaN</td>\n",
       "      <td>NaN</td>\n",
       "      <td>2019.000000</td>\n",
       "      <td>2020.000000</td>\n",
       "      <td>NaN</td>\n",
       "      <td>NaN</td>\n",
       "    </tr>\n",
       "  </tbody>\n",
       "</table>\n",
       "</div>"
      ],
      "text/plain": [
       "              ANO_BO        NUM_BO        NUMERO            RG       IDADE  \\\n",
       "count  120554.000000  1.205540e+05  1.205180e+05  6.120000e+02  662.000000   \n",
       "mean     2018.999569  7.701180e+04  1.117497e+03  5.377082e+07   24.018127   \n",
       "std         0.020764  2.803016e+05  5.521084e+04  6.047994e+07   10.482734   \n",
       "min      2018.000000  1.000000e+00  0.000000e+00  2.924582e+06   13.000000   \n",
       "25%      2019.000000  1.178000e+03  1.500000e+01  3.902380e+07   17.000000   \n",
       "50%      2019.000000  2.855000e+03  1.240000e+02  4.961931e+07   20.000000   \n",
       "75%      2019.000000  5.909000e+03  5.000000e+02  5.445653e+07   27.000000   \n",
       "max      2019.000000  3.000212e+06  1.350682e+07  5.701472e+08   80.000000   \n",
       "\n",
       "       RELACIONAMENTO  PARENTESCO  ANO_FABRICACAO     ANO_MODELO  \\\n",
       "count             0.0         0.0   116560.000000  109149.000000   \n",
       "mean              NaN         NaN     1445.009943    1406.792220   \n",
       "std               NaN         NaN      905.419721     923.335388   \n",
       "min               NaN         NaN        0.000000       0.000000   \n",
       "25%               NaN         NaN        0.000000       0.000000   \n",
       "50%               NaN         NaN     2011.000000    2011.000000   \n",
       "75%               NaN         NaN     2015.000000    2015.000000   \n",
       "max               NaN         NaN     2019.000000    2020.000000   \n",
       "\n",
       "       QUANT_CELULAR  MARCA_CELULAR  \n",
       "count            0.0            0.0  \n",
       "mean             NaN            NaN  \n",
       "std              NaN            NaN  \n",
       "min              NaN            NaN  \n",
       "25%              NaN            NaN  \n",
       "50%              NaN            NaN  \n",
       "75%              NaN            NaN  \n",
       "max              NaN            NaN  "
      ]
     },
     "execution_count": 25,
     "metadata": {},
     "output_type": "execute_result"
    }
   ],
   "source": [
    "df.describe()"
   ]
  },
  {
   "cell_type": "markdown",
   "metadata": {},
   "source": [
    "<h5>Numéro de linhas e colunas do dataframe</h5>"
   ]
  },
  {
   "cell_type": "code",
   "execution_count": 18,
   "metadata": {},
   "outputs": [
    {
     "data": {
      "text/plain": [
       "(120554, 57)"
      ]
     },
     "execution_count": 18,
     "metadata": {},
     "output_type": "execute_result"
    }
   ],
   "source": [
    "df.shape"
   ]
  },
  {
   "cell_type": "code",
   "execution_count": 19,
   "metadata": {},
   "outputs": [
    {
     "data": {
      "text/plain": [
       "Int64Index([    0,     1,     2,     3,     4,     5,     6,     7,     8,\n",
       "                9,\n",
       "            ...\n",
       "            11249, 11250, 11251, 11252, 11253, 11254, 11255, 11256, 11257,\n",
       "            11258],\n",
       "           dtype='int64', length=120554)"
      ]
     },
     "execution_count": 19,
     "metadata": {},
     "output_type": "execute_result"
    }
   ],
   "source": [
    "df.index"
   ]
  },
  {
   "cell_type": "markdown",
   "metadata": {},
   "source": [
    "<h5>Nome de todas as colunas</h5>"
   ]
  },
  {
   "cell_type": "code",
   "execution_count": 20,
   "metadata": {},
   "outputs": [
    {
     "data": {
      "text/plain": [
       "Index(['ANO_BO', 'NUM_BO', 'NUMERO_BOLETIM', 'BO_INICIADO', 'BO_EMITIDO',\n",
       "       'DATAOCORRENCIA', 'HORAOCORRENCIA', 'PERIDOOCORRENCIA',\n",
       "       'DATACOMUNICACAO', 'DATAELABORACAO', 'BO_AUTORIA', 'FLAGRANTE',\n",
       "       'NUMERO_BOLETIM_PRINCIPAL', 'LOGRADOURO', 'NUMERO', 'BAIRRO', 'CIDADE',\n",
       "       'UF', 'LATITUDE', 'LONGITUDE', 'DESCRICAOLOCAL', 'EXAME', 'SOLUCAO',\n",
       "       'DELEGACIA_NOME', 'DELEGACIA_CIRCUNSCRICAO', 'ESPECIE', 'RUBRICA',\n",
       "       'DESDOBRAMENTO', 'STATUS', 'NOMEPESSOA', 'TIPOPESSOA', 'VITIMAFATAL',\n",
       "       'RG', 'RG_UF', 'NATURALIDADE', 'NACIONALIDADE', 'SEXO',\n",
       "       'DATANASCIMENTO', 'IDADE', 'ESTADOCIVIL', 'PROFISSAO', 'GRAUINSTRUCAO',\n",
       "       'CORCUTIS', 'NATUREZAVINCULADA', 'TIPOVINCULO', 'RELACIONAMENTO',\n",
       "       'PARENTESCO', 'PLACA_VEICULO', 'UF_VEICULO', 'CIDADE_VEICULO',\n",
       "       'DESCR_COR_VEICULO', 'DESCR_MARCA_VEICULO', 'ANO_FABRICACAO',\n",
       "       'ANO_MODELO', 'DESCR_TIPO_VEICULO', 'QUANT_CELULAR', 'MARCA_CELULAR'],\n",
       "      dtype='object')"
      ]
     },
     "execution_count": 20,
     "metadata": {},
     "output_type": "execute_result"
    }
   ],
   "source": [
    "df.columns"
   ]
  },
  {
   "cell_type": "markdown",
   "metadata": {},
   "source": [
    "<h5>Informações sobre cada coluna</h5>"
   ]
  },
  {
   "cell_type": "code",
   "execution_count": 106,
   "metadata": {
    "scrolled": true
   },
   "outputs": [
    {
     "name": "stdout",
     "output_type": "stream",
     "text": [
      "<class 'pandas.core.frame.DataFrame'>\n",
      "Int64Index: 120554 entries, 0 to 11258\n",
      "Data columns (total 57 columns):\n",
      "ANO_BO                      120554 non-null int64\n",
      "NUM_BO                      120554 non-null int64\n",
      "NUMERO_BOLETIM              120554 non-null object\n",
      "BO_INICIADO                 120554 non-null object\n",
      "BO_EMITIDO                  120554 non-null object\n",
      "DATAOCORRENCIA              120554 non-null object\n",
      "HORAOCORRENCIA              116308 non-null object\n",
      "PERIDOOCORRENCIA            120554 non-null object\n",
      "DATACOMUNICACAO             120554 non-null object\n",
      "DATAELABORACAO              120554 non-null object\n",
      "BO_AUTORIA                  120554 non-null object\n",
      "FLAGRANTE                   120554 non-null object\n",
      "NUMERO_BOLETIM_PRINCIPAL    14258 non-null object\n",
      "LOGRADOURO                  111109 non-null object\n",
      "NUMERO                      120518 non-null float64\n",
      "BAIRRO                      120278 non-null object\n",
      "CIDADE                      120518 non-null object\n",
      "UF                          120518 non-null object\n",
      "LATITUDE                    109631 non-null object\n",
      "LONGITUDE                   109631 non-null object\n",
      "DESCRICAOLOCAL              120554 non-null object\n",
      "EXAME                       32402 non-null object\n",
      "SOLUCAO                     120554 non-null object\n",
      "DELEGACIA_NOME              120554 non-null object\n",
      "DELEGACIA_CIRCUNSCRICAO     120554 non-null object\n",
      "ESPECIE                     120554 non-null object\n",
      "RUBRICA                     120554 non-null object\n",
      "DESDOBRAMENTO               15829 non-null object\n",
      "STATUS                      120550 non-null object\n",
      "NOMEPESSOA                  1027 non-null object\n",
      "TIPOPESSOA                  1027 non-null object\n",
      "VITIMAFATAL                 1027 non-null object\n",
      "RG                          612 non-null float64\n",
      "RG_UF                       624 non-null object\n",
      "NATURALIDADE                582 non-null object\n",
      "NACIONALIDADE               510 non-null object\n",
      "SEXO                        1024 non-null object\n",
      "DATANASCIMENTO              608 non-null object\n",
      "IDADE                       662 non-null float64\n",
      "ESTADOCIVIL                 587 non-null object\n",
      "PROFISSAO                   447 non-null object\n",
      "GRAUINSTRUCAO               250 non-null object\n",
      "CORCUTIS                    1027 non-null object\n",
      "NATUREZAVINCULADA           1027 non-null object\n",
      "TIPOVINCULO                 1027 non-null object\n",
      "RELACIONAMENTO              0 non-null float64\n",
      "PARENTESCO                  0 non-null float64\n",
      "PLACA_VEICULO               84208 non-null object\n",
      "UF_VEICULO                  85217 non-null object\n",
      "CIDADE_VEICULO              84683 non-null object\n",
      "DESCR_COR_VEICULO           87547 non-null object\n",
      "DESCR_MARCA_VEICULO         84800 non-null object\n",
      "ANO_FABRICACAO              116560 non-null float64\n",
      "ANO_MODELO                  109149 non-null float64\n",
      "DESCR_TIPO_VEICULO          87546 non-null object\n",
      "QUANT_CELULAR               0 non-null float64\n",
      "MARCA_CELULAR               0 non-null float64\n",
      "dtypes: float64(9), int64(2), object(46)\n",
      "memory usage: 53.3+ MB\n"
     ]
    }
   ],
   "source": [
    "df.info()"
   ]
  },
  {
   "cell_type": "markdown",
   "metadata": {},
   "source": [
    "<h5>Verificando quantidade de valores faltantes em cada coluna</h5>"
   ]
  },
  {
   "cell_type": "code",
   "execution_count": 46,
   "metadata": {
    "scrolled": true
   },
   "outputs": [
    {
     "data": {
      "text/plain": [
       "ANO_BO                           0\n",
       "NUM_BO                           0\n",
       "NUMERO_BOLETIM                   0\n",
       "BO_INICIADO                      0\n",
       "BO_EMITIDO                       0\n",
       "DATAOCORRENCIA                   0\n",
       "HORAOCORRENCIA                4246\n",
       "PERIDOOCORRENCIA                 0\n",
       "DATACOMUNICACAO                  0\n",
       "DATAELABORACAO                   0\n",
       "BO_AUTORIA                       0\n",
       "FLAGRANTE                        0\n",
       "NUMERO_BOLETIM_PRINCIPAL    106296\n",
       "LOGRADOURO                    9445\n",
       "NUMERO                          36\n",
       "BAIRRO                         276\n",
       "CIDADE                          36\n",
       "UF                              36\n",
       "LATITUDE                     10923\n",
       "LONGITUDE                    10923\n",
       "DESCRICAOLOCAL                   0\n",
       "EXAME                        88152\n",
       "SOLUCAO                          0\n",
       "DELEGACIA_NOME                   0\n",
       "DELEGACIA_CIRCUNSCRICAO          0\n",
       "ESPECIE                          0\n",
       "RUBRICA                          0\n",
       "DESDOBRAMENTO               104725\n",
       "STATUS                           4\n",
       "NOMEPESSOA                  119527\n",
       "TIPOPESSOA                  119527\n",
       "VITIMAFATAL                 119527\n",
       "RG                          119942\n",
       "RG_UF                       119930\n",
       "NATURALIDADE                119972\n",
       "NACIONALIDADE               120044\n",
       "SEXO                        119530\n",
       "DATANASCIMENTO              119946\n",
       "IDADE                       119892\n",
       "ESTADOCIVIL                 119967\n",
       "PROFISSAO                   120107\n",
       "GRAUINSTRUCAO               120304\n",
       "CORCUTIS                    119527\n",
       "NATUREZAVINCULADA           119527\n",
       "TIPOVINCULO                 119527\n",
       "RELACIONAMENTO              120554\n",
       "PARENTESCO                  120554\n",
       "PLACA_VEICULO                36346\n",
       "UF_VEICULO                   35337\n",
       "CIDADE_VEICULO               35871\n",
       "DESCR_COR_VEICULO            33007\n",
       "DESCR_MARCA_VEICULO          35754\n",
       "ANO_FABRICACAO                3994\n",
       "ANO_MODELO                   11405\n",
       "DESCR_TIPO_VEICULO           33008\n",
       "QUANT_CELULAR               120554\n",
       "MARCA_CELULAR               120554\n",
       "dtype: int64"
      ]
     },
     "execution_count": 46,
     "metadata": {},
     "output_type": "execute_result"
    }
   ],
   "source": [
    "df.isnull().sum()"
   ]
  },
  {
   "cell_type": "code",
   "execution_count": 55,
   "metadata": {},
   "outputs": [
    {
     "data": {
      "text/plain": [
       "0"
      ]
     },
     "execution_count": 55,
     "metadata": {},
     "output_type": "execute_result"
    }
   ],
   "source": [
    "#não há valores duplicados\n",
    "df.duplicated().sum()"
   ]
  },
  {
   "cell_type": "markdown",
   "metadata": {},
   "source": [
    "<h5>Removendo colunas que possuem todos os valores faltantes</h5>"
   ]
  },
  {
   "cell_type": "code",
   "execution_count": 5,
   "metadata": {},
   "outputs": [],
   "source": [
    "df.drop('RELACIONAMENTO', inplace=True, axis=1)\n",
    "df.drop('PARENTESCO', inplace=True, axis=1)\n",
    "df.drop('QUANT_CELULAR', inplace=True, axis=1)\n",
    "df.drop('MARCA_CELULAR', inplace=True, axis=1)"
   ]
  },
  {
   "cell_type": "code",
   "execution_count": 6,
   "metadata": {
    "scrolled": true
   },
   "outputs": [
    {
     "data": {
      "text/plain": [
       "(120554, 53)"
      ]
     },
     "execution_count": 6,
     "metadata": {},
     "output_type": "execute_result"
    }
   ],
   "source": [
    "df.shape"
   ]
  },
  {
   "cell_type": "markdown",
   "metadata": {},
   "source": [
    "<h5>Removendo colunas de dados possivelmente não sensíveis e encontrando sua correlação</h5>\n",
    "Removi colunas com mais de 30.000 valores faltantes e que eu julguei serem pouco relevantes."
   ]
  },
  {
   "cell_type": "code",
   "execution_count": 7,
   "metadata": {},
   "outputs": [],
   "source": [
    "df.dropna(axis=1, inplace=True, thresh=30000)"
   ]
  },
  {
   "cell_type": "code",
   "execution_count": 8,
   "metadata": {},
   "outputs": [
    {
     "data": {
      "text/plain": [
       "(120554, 35)"
      ]
     },
     "execution_count": 8,
     "metadata": {},
     "output_type": "execute_result"
    }
   ],
   "source": [
    "df.shape"
   ]
  },
  {
   "cell_type": "code",
   "execution_count": 9,
   "metadata": {
    "scrolled": true
   },
   "outputs": [
    {
     "name": "stdout",
     "output_type": "stream",
     "text": [
      "<class 'pandas.core.frame.DataFrame'>\n",
      "Int64Index: 120554 entries, 0 to 11258\n",
      "Data columns (total 35 columns):\n",
      "ANO_BO                     120554 non-null int64\n",
      "NUM_BO                     120554 non-null int64\n",
      "NUMERO_BOLETIM             120554 non-null object\n",
      "BO_INICIADO                120554 non-null object\n",
      "BO_EMITIDO                 120554 non-null object\n",
      "DATAOCORRENCIA             120554 non-null object\n",
      "HORAOCORRENCIA             116308 non-null object\n",
      "PERIDOOCORRENCIA           120554 non-null object\n",
      "DATACOMUNICACAO            120554 non-null object\n",
      "DATAELABORACAO             120554 non-null object\n",
      "BO_AUTORIA                 120554 non-null object\n",
      "FLAGRANTE                  120554 non-null object\n",
      "LOGRADOURO                 111109 non-null object\n",
      "NUMERO                     120518 non-null float64\n",
      "BAIRRO                     120278 non-null object\n",
      "CIDADE                     120518 non-null object\n",
      "UF                         120518 non-null object\n",
      "LATITUDE                   109631 non-null object\n",
      "LONGITUDE                  109631 non-null object\n",
      "DESCRICAOLOCAL             120554 non-null object\n",
      "EXAME                      32402 non-null object\n",
      "SOLUCAO                    120554 non-null object\n",
      "DELEGACIA_NOME             120554 non-null object\n",
      "DELEGACIA_CIRCUNSCRICAO    120554 non-null object\n",
      "ESPECIE                    120554 non-null object\n",
      "RUBRICA                    120554 non-null object\n",
      "STATUS                     120550 non-null object\n",
      "PLACA_VEICULO              84208 non-null object\n",
      "UF_VEICULO                 85217 non-null object\n",
      "CIDADE_VEICULO             84683 non-null object\n",
      "DESCR_COR_VEICULO          87547 non-null object\n",
      "DESCR_MARCA_VEICULO        84800 non-null object\n",
      "ANO_FABRICACAO             116560 non-null float64\n",
      "ANO_MODELO                 109149 non-null float64\n",
      "DESCR_TIPO_VEICULO         87546 non-null object\n",
      "dtypes: float64(3), int64(2), object(30)\n",
      "memory usage: 33.1+ MB\n"
     ]
    }
   ],
   "source": [
    "df.info()"
   ]
  },
  {
   "cell_type": "code",
   "execution_count": 10,
   "metadata": {
    "scrolled": true
   },
   "outputs": [
    {
     "data": {
      "text/plain": [
       "ANO_BO                         0\n",
       "NUM_BO                         0\n",
       "NUMERO_BOLETIM                 0\n",
       "BO_INICIADO                    0\n",
       "BO_EMITIDO                     0\n",
       "DATAOCORRENCIA                 0\n",
       "HORAOCORRENCIA              4246\n",
       "PERIDOOCORRENCIA               0\n",
       "DATACOMUNICACAO                0\n",
       "DATAELABORACAO                 0\n",
       "BO_AUTORIA                     0\n",
       "FLAGRANTE                      0\n",
       "LOGRADOURO                  9445\n",
       "NUMERO                        36\n",
       "BAIRRO                       276\n",
       "CIDADE                        36\n",
       "UF                            36\n",
       "LATITUDE                   10923\n",
       "LONGITUDE                  10923\n",
       "DESCRICAOLOCAL                 0\n",
       "EXAME                      88152\n",
       "SOLUCAO                        0\n",
       "DELEGACIA_NOME                 0\n",
       "DELEGACIA_CIRCUNSCRICAO        0\n",
       "ESPECIE                        0\n",
       "RUBRICA                        0\n",
       "STATUS                         4\n",
       "PLACA_VEICULO              36346\n",
       "UF_VEICULO                 35337\n",
       "CIDADE_VEICULO             35871\n",
       "DESCR_COR_VEICULO          33007\n",
       "DESCR_MARCA_VEICULO        35754\n",
       "ANO_FABRICACAO              3994\n",
       "ANO_MODELO                 11405\n",
       "DESCR_TIPO_VEICULO         33008\n",
       "dtype: int64"
      ]
     },
     "execution_count": 10,
     "metadata": {},
     "output_type": "execute_result"
    }
   ],
   "source": [
    "df.isnull().sum()"
   ]
  },
  {
   "cell_type": "markdown",
   "metadata": {},
   "source": [
    "<h5>Tratando valores faltantes com a média.</h5>"
   ]
  },
  {
   "cell_type": "code",
   "execution_count": null,
   "metadata": {},
   "outputs": [],
   "source": [
    "df_novo = df\n",
    "df_novo.fillna(df_novo.mean(0))\n",
    "df_novo.isnull().sum()"
   ]
  },
  {
   "cell_type": "markdown",
   "metadata": {},
   "source": [
    "<h5>Transformando variáveis categóricas em numéricas</h5>"
   ]
  },
  {
   "cell_type": "code",
   "execution_count": 94,
   "metadata": {},
   "outputs": [],
   "source": [
    "from sklearn.preprocessing import LabelEncoder"
   ]
  },
  {
   "cell_type": "code",
   "execution_count": 95,
   "metadata": {},
   "outputs": [],
   "source": [
    "label_encoder1 = LabelEncoder()\n",
    "label_encoder2 = LabelEncoder()\n",
    "label_encoder3 = LabelEncoder()\n",
    "label_encoder4 = LabelEncoder()\n",
    "label_encoder5 = LabelEncoder()\n",
    "label_encoder6 = LabelEncoder()\n",
    "label_encoder7 = LabelEncoder()\n",
    "label_encoder8 = LabelEncoder()\n",
    "label_encoder9 = LabelEncoder()\n",
    "label_encoder10 = LabelEncoder()\n",
    "label_encoder11 = LabelEncoder()\n",
    "\n",
    "label_encoder13 = LabelEncoder()\n",
    "label_encoder14 = LabelEncoder()\n",
    "label_encoder15 = LabelEncoder()\n",
    "label_encoder16 = LabelEncoder()\n",
    "label_encoder17 = LabelEncoder()\n",
    "label_encoder18 = LabelEncoder()\n",
    "label_encoder19 = LabelEncoder()\n",
    "label_encoder20 = LabelEncoder()\n",
    "label_encoder21 = LabelEncoder()\n",
    "label_encoder22 = LabelEncoder()\n",
    "label_encoder23 = LabelEncoder()\n",
    "label_encoder24 = LabelEncoder()\n",
    "label_encoder25 = LabelEncoder()\n",
    "label_encoder26 = LabelEncoder()\n",
    "label_encoder27 = LabelEncoder()\n"
   ]
  },
  {
   "cell_type": "code",
   "execution_count": null,
   "metadata": {},
   "outputs": [],
   "source": [
    "df['NUMERO_BOLETIM'] = label_encoder1.fit_transform(df['NUMERO_BOLETIM'])\n",
    "df['BO_INICIADO'] = label_encoder2.fit_transform(df['BO_INICIADO'])\n",
    "df['BO_EMITIDO'] = label_encoder3.fit_transform(df['BO_EMITIDO'])\n",
    "df['DATAOCORRENCIA'] = label_encoder4.fit_transform(df['DATAOCORRENCIA'])\n",
    "df['HORAOCORRENCIA'] = label_encoder5.fit_transform(df['HORAOCORRENCIA'])\n",
    "df['PERIDOOCORRENCIA'] = label_encoder6.fit_transform(df['PERIDOOCORRENCIA'])\n",
    "df['DATACOMUNICACAO'] = label_encoder7.fit_transform(df['DATACOMUNICACAO'])\n",
    "df['DATAELABORACAO'] = label_encoder8.fit_transform(df['DATAELABORACAO'])\n",
    "df['BO_AUTORIA'] = label_encoder9.fit_transform(df['BO_AUTORIA'])\n",
    "df['FLAGRANTE'] = label_encoder10.fit_transform(df['FLAGRANTE'])\n",
    "\n",
    "df['LOGRADOURO'] = label_encoder11.fit_transform(df['NUMERO_BOLETIM'])\n",
    "df['BAIRRO'] = label_encoder13.fit_transform(df['BAIRRO'])\n",
    "df['CIDADE'] = label_encoder14.fit_transform(df['CIDADE'])\n",
    "df['UF'] = label_encoder15.fit_transform(df['UF'])\n",
    "df['LATITUDE'] = label_encoder16.fit_transform(df['LATITUDE'])\n",
    "df['LONGITUDE'] = label_encoder17.fit_transform(df['LONGITUDE'])\n",
    "df['DESCRICAOLOCAL'] = label_encoder18.fit_transform(df['DESCRICAOLOCAL'])\n",
    "df['DELEGACIA_NOME'] = label_encoder19.fit_transform(df['DELEGACIA_NOME'])\n",
    "df['ESPECIE'] = label_encoder20.fit_transform(df['ESPECIE'])\n",
    "\n",
    "df['RUBRICA'] = label_encoder21.fit_transform(df['RUBRICA'])\n",
    "df['STATUS'] = label_encoder22.fit_transform(df['STATUS'])\n",
    "df['PLACA_VEICULO'] = label_encoder23.fit_transform(df['PLACA_VEICULO'])\n",
    "df['UF_VEICULO'] = label_encoder24.fit_transform(df['UF_VEICULO'])\n",
    "df['CIDADE_VEICULO'] = label_encoder25.fit_transform(df['CIDADE_VEICULO'])\n",
    "df['DESCR_COR_VEICULO'] = label_encoder26.fit_transform(df['DESCR_COR_VEICULO'])\n",
    "df['DESCR_MARCA_VEICULO'] = label_encoder27.fit_transform(df['DESCR_MARCA_VEICULO'])"
   ]
  }
 ],
 "metadata": {
  "kernelspec": {
   "display_name": "Python 3",
   "language": "python",
   "name": "python3"
  },
  "language_info": {
   "codemirror_mode": {
    "name": "ipython",
    "version": 3
   },
   "file_extension": ".py",
   "mimetype": "text/x-python",
   "name": "python",
   "nbconvert_exporter": "python",
   "pygments_lexer": "ipython3",
   "version": "3.7.3"
  }
 },
 "nbformat": 4,
 "nbformat_minor": 2
}
